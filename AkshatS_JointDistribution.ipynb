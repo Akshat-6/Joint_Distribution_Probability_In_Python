{
  "cells": [
    {
      "cell_type": "markdown",
      "metadata": {
        "id": "7a_Pgt6YwTv9"
      },
      "source": [
        "# Module 1: Introduction to Graphical Model - Joint Probability Distribution"
      ]
    },
    {
      "cell_type": "code",
      "execution_count": 1,
      "metadata": {
        "colab": {
          "base_uri": "https://localhost:8080/",
          "height": 206
        },
        "id": "swR2qYiiwTwA",
        "outputId": "851bdbdd-034d-4b6f-dd4e-8b5a56b27840"
      },
      "outputs": [
        {
          "output_type": "execute_result",
          "data": {
            "text/plain": [
              "    User ID  Gender  Age  EstimatedSalary  Purchased\n",
              "0  15624510    Male   19            19000          0\n",
              "1  15810944    Male   35            20000          0\n",
              "2  15668575  Female   26            43000          0\n",
              "3  15603246  Female   27            57000          0\n",
              "4  15804002    Male   19            76000          0"
            ],
            "text/html": [
              "\n",
              "  <div id=\"df-bdcf9020-8804-444e-9b92-35d955ce29fa\" class=\"colab-df-container\">\n",
              "    <div>\n",
              "<style scoped>\n",
              "    .dataframe tbody tr th:only-of-type {\n",
              "        vertical-align: middle;\n",
              "    }\n",
              "\n",
              "    .dataframe tbody tr th {\n",
              "        vertical-align: top;\n",
              "    }\n",
              "\n",
              "    .dataframe thead th {\n",
              "        text-align: right;\n",
              "    }\n",
              "</style>\n",
              "<table border=\"1\" class=\"dataframe\">\n",
              "  <thead>\n",
              "    <tr style=\"text-align: right;\">\n",
              "      <th></th>\n",
              "      <th>User ID</th>\n",
              "      <th>Gender</th>\n",
              "      <th>Age</th>\n",
              "      <th>EstimatedSalary</th>\n",
              "      <th>Purchased</th>\n",
              "    </tr>\n",
              "  </thead>\n",
              "  <tbody>\n",
              "    <tr>\n",
              "      <th>0</th>\n",
              "      <td>15624510</td>\n",
              "      <td>Male</td>\n",
              "      <td>19</td>\n",
              "      <td>19000</td>\n",
              "      <td>0</td>\n",
              "    </tr>\n",
              "    <tr>\n",
              "      <th>1</th>\n",
              "      <td>15810944</td>\n",
              "      <td>Male</td>\n",
              "      <td>35</td>\n",
              "      <td>20000</td>\n",
              "      <td>0</td>\n",
              "    </tr>\n",
              "    <tr>\n",
              "      <th>2</th>\n",
              "      <td>15668575</td>\n",
              "      <td>Female</td>\n",
              "      <td>26</td>\n",
              "      <td>43000</td>\n",
              "      <td>0</td>\n",
              "    </tr>\n",
              "    <tr>\n",
              "      <th>3</th>\n",
              "      <td>15603246</td>\n",
              "      <td>Female</td>\n",
              "      <td>27</td>\n",
              "      <td>57000</td>\n",
              "      <td>0</td>\n",
              "    </tr>\n",
              "    <tr>\n",
              "      <th>4</th>\n",
              "      <td>15804002</td>\n",
              "      <td>Male</td>\n",
              "      <td>19</td>\n",
              "      <td>76000</td>\n",
              "      <td>0</td>\n",
              "    </tr>\n",
              "  </tbody>\n",
              "</table>\n",
              "</div>\n",
              "    <div class=\"colab-df-buttons\">\n",
              "\n",
              "  <div class=\"colab-df-container\">\n",
              "    <button class=\"colab-df-convert\" onclick=\"convertToInteractive('df-bdcf9020-8804-444e-9b92-35d955ce29fa')\"\n",
              "            title=\"Convert this dataframe to an interactive table.\"\n",
              "            style=\"display:none;\">\n",
              "\n",
              "  <svg xmlns=\"http://www.w3.org/2000/svg\" height=\"24px\" viewBox=\"0 -960 960 960\">\n",
              "    <path d=\"M120-120v-720h720v720H120Zm60-500h600v-160H180v160Zm220 220h160v-160H400v160Zm0 220h160v-160H400v160ZM180-400h160v-160H180v160Zm440 0h160v-160H620v160ZM180-180h160v-160H180v160Zm440 0h160v-160H620v160Z\"/>\n",
              "  </svg>\n",
              "    </button>\n",
              "\n",
              "  <style>\n",
              "    .colab-df-container {\n",
              "      display:flex;\n",
              "      gap: 12px;\n",
              "    }\n",
              "\n",
              "    .colab-df-convert {\n",
              "      background-color: #E8F0FE;\n",
              "      border: none;\n",
              "      border-radius: 50%;\n",
              "      cursor: pointer;\n",
              "      display: none;\n",
              "      fill: #1967D2;\n",
              "      height: 32px;\n",
              "      padding: 0 0 0 0;\n",
              "      width: 32px;\n",
              "    }\n",
              "\n",
              "    .colab-df-convert:hover {\n",
              "      background-color: #E2EBFA;\n",
              "      box-shadow: 0px 1px 2px rgba(60, 64, 67, 0.3), 0px 1px 3px 1px rgba(60, 64, 67, 0.15);\n",
              "      fill: #174EA6;\n",
              "    }\n",
              "\n",
              "    .colab-df-buttons div {\n",
              "      margin-bottom: 4px;\n",
              "    }\n",
              "\n",
              "    [theme=dark] .colab-df-convert {\n",
              "      background-color: #3B4455;\n",
              "      fill: #D2E3FC;\n",
              "    }\n",
              "\n",
              "    [theme=dark] .colab-df-convert:hover {\n",
              "      background-color: #434B5C;\n",
              "      box-shadow: 0px 1px 3px 1px rgba(0, 0, 0, 0.15);\n",
              "      filter: drop-shadow(0px 1px 2px rgba(0, 0, 0, 0.3));\n",
              "      fill: #FFFFFF;\n",
              "    }\n",
              "  </style>\n",
              "\n",
              "    <script>\n",
              "      const buttonEl =\n",
              "        document.querySelector('#df-bdcf9020-8804-444e-9b92-35d955ce29fa button.colab-df-convert');\n",
              "      buttonEl.style.display =\n",
              "        google.colab.kernel.accessAllowed ? 'block' : 'none';\n",
              "\n",
              "      async function convertToInteractive(key) {\n",
              "        const element = document.querySelector('#df-bdcf9020-8804-444e-9b92-35d955ce29fa');\n",
              "        const dataTable =\n",
              "          await google.colab.kernel.invokeFunction('convertToInteractive',\n",
              "                                                    [key], {});\n",
              "        if (!dataTable) return;\n",
              "\n",
              "        const docLinkHtml = 'Like what you see? Visit the ' +\n",
              "          '<a target=\"_blank\" href=https://colab.research.google.com/notebooks/data_table.ipynb>data table notebook</a>'\n",
              "          + ' to learn more about interactive tables.';\n",
              "        element.innerHTML = '';\n",
              "        dataTable['output_type'] = 'display_data';\n",
              "        await google.colab.output.renderOutput(dataTable, element);\n",
              "        const docLink = document.createElement('div');\n",
              "        docLink.innerHTML = docLinkHtml;\n",
              "        element.appendChild(docLink);\n",
              "      }\n",
              "    </script>\n",
              "  </div>\n",
              "\n",
              "\n",
              "    <div id=\"df-d9d380f5-0d9b-4f6f-a0f8-b388b7854a34\">\n",
              "      <button class=\"colab-df-quickchart\" onclick=\"quickchart('df-d9d380f5-0d9b-4f6f-a0f8-b388b7854a34')\"\n",
              "                title=\"Suggest charts\"\n",
              "                style=\"display:none;\">\n",
              "\n",
              "<svg xmlns=\"http://www.w3.org/2000/svg\" height=\"24px\"viewBox=\"0 0 24 24\"\n",
              "     width=\"24px\">\n",
              "    <g>\n",
              "        <path d=\"M19 3H5c-1.1 0-2 .9-2 2v14c0 1.1.9 2 2 2h14c1.1 0 2-.9 2-2V5c0-1.1-.9-2-2-2zM9 17H7v-7h2v7zm4 0h-2V7h2v10zm4 0h-2v-4h2v4z\"/>\n",
              "    </g>\n",
              "</svg>\n",
              "      </button>\n",
              "\n",
              "<style>\n",
              "  .colab-df-quickchart {\n",
              "      --bg-color: #E8F0FE;\n",
              "      --fill-color: #1967D2;\n",
              "      --hover-bg-color: #E2EBFA;\n",
              "      --hover-fill-color: #174EA6;\n",
              "      --disabled-fill-color: #AAA;\n",
              "      --disabled-bg-color: #DDD;\n",
              "  }\n",
              "\n",
              "  [theme=dark] .colab-df-quickchart {\n",
              "      --bg-color: #3B4455;\n",
              "      --fill-color: #D2E3FC;\n",
              "      --hover-bg-color: #434B5C;\n",
              "      --hover-fill-color: #FFFFFF;\n",
              "      --disabled-bg-color: #3B4455;\n",
              "      --disabled-fill-color: #666;\n",
              "  }\n",
              "\n",
              "  .colab-df-quickchart {\n",
              "    background-color: var(--bg-color);\n",
              "    border: none;\n",
              "    border-radius: 50%;\n",
              "    cursor: pointer;\n",
              "    display: none;\n",
              "    fill: var(--fill-color);\n",
              "    height: 32px;\n",
              "    padding: 0;\n",
              "    width: 32px;\n",
              "  }\n",
              "\n",
              "  .colab-df-quickchart:hover {\n",
              "    background-color: var(--hover-bg-color);\n",
              "    box-shadow: 0 1px 2px rgba(60, 64, 67, 0.3), 0 1px 3px 1px rgba(60, 64, 67, 0.15);\n",
              "    fill: var(--button-hover-fill-color);\n",
              "  }\n",
              "\n",
              "  .colab-df-quickchart-complete:disabled,\n",
              "  .colab-df-quickchart-complete:disabled:hover {\n",
              "    background-color: var(--disabled-bg-color);\n",
              "    fill: var(--disabled-fill-color);\n",
              "    box-shadow: none;\n",
              "  }\n",
              "\n",
              "  .colab-df-spinner {\n",
              "    border: 2px solid var(--fill-color);\n",
              "    border-color: transparent;\n",
              "    border-bottom-color: var(--fill-color);\n",
              "    animation:\n",
              "      spin 1s steps(1) infinite;\n",
              "  }\n",
              "\n",
              "  @keyframes spin {\n",
              "    0% {\n",
              "      border-color: transparent;\n",
              "      border-bottom-color: var(--fill-color);\n",
              "      border-left-color: var(--fill-color);\n",
              "    }\n",
              "    20% {\n",
              "      border-color: transparent;\n",
              "      border-left-color: var(--fill-color);\n",
              "      border-top-color: var(--fill-color);\n",
              "    }\n",
              "    30% {\n",
              "      border-color: transparent;\n",
              "      border-left-color: var(--fill-color);\n",
              "      border-top-color: var(--fill-color);\n",
              "      border-right-color: var(--fill-color);\n",
              "    }\n",
              "    40% {\n",
              "      border-color: transparent;\n",
              "      border-right-color: var(--fill-color);\n",
              "      border-top-color: var(--fill-color);\n",
              "    }\n",
              "    60% {\n",
              "      border-color: transparent;\n",
              "      border-right-color: var(--fill-color);\n",
              "    }\n",
              "    80% {\n",
              "      border-color: transparent;\n",
              "      border-right-color: var(--fill-color);\n",
              "      border-bottom-color: var(--fill-color);\n",
              "    }\n",
              "    90% {\n",
              "      border-color: transparent;\n",
              "      border-bottom-color: var(--fill-color);\n",
              "    }\n",
              "  }\n",
              "</style>\n",
              "\n",
              "      <script>\n",
              "        async function quickchart(key) {\n",
              "          const quickchartButtonEl =\n",
              "            document.querySelector('#' + key + ' button');\n",
              "          quickchartButtonEl.disabled = true;  // To prevent multiple clicks.\n",
              "          quickchartButtonEl.classList.add('colab-df-spinner');\n",
              "          try {\n",
              "            const charts = await google.colab.kernel.invokeFunction(\n",
              "                'suggestCharts', [key], {});\n",
              "          } catch (error) {\n",
              "            console.error('Error during call to suggestCharts:', error);\n",
              "          }\n",
              "          quickchartButtonEl.classList.remove('colab-df-spinner');\n",
              "          quickchartButtonEl.classList.add('colab-df-quickchart-complete');\n",
              "        }\n",
              "        (() => {\n",
              "          let quickchartButtonEl =\n",
              "            document.querySelector('#df-d9d380f5-0d9b-4f6f-a0f8-b388b7854a34 button');\n",
              "          quickchartButtonEl.style.display =\n",
              "            google.colab.kernel.accessAllowed ? 'block' : 'none';\n",
              "        })();\n",
              "      </script>\n",
              "    </div>\n",
              "\n",
              "    </div>\n",
              "  </div>\n"
            ],
            "application/vnd.google.colaboratory.intrinsic+json": {
              "type": "dataframe",
              "variable_name": "data",
              "summary": "{\n  \"name\": \"data\",\n  \"rows\": 400,\n  \"fields\": [\n    {\n      \"column\": \"User ID\",\n      \"properties\": {\n        \"dtype\": \"number\",\n        \"std\": 71658,\n        \"min\": 15566689,\n        \"max\": 15815236,\n        \"num_unique_values\": 400,\n        \"samples\": [\n          15697424,\n          15609669,\n          15776733\n        ],\n        \"semantic_type\": \"\",\n        \"description\": \"\"\n      }\n    },\n    {\n      \"column\": \"Gender\",\n      \"properties\": {\n        \"dtype\": \"category\",\n        \"num_unique_values\": 2,\n        \"samples\": [\n          \"Female\",\n          \"Male\"\n        ],\n        \"semantic_type\": \"\",\n        \"description\": \"\"\n      }\n    },\n    {\n      \"column\": \"Age\",\n      \"properties\": {\n        \"dtype\": \"number\",\n        \"std\": 10,\n        \"min\": 18,\n        \"max\": 60,\n        \"num_unique_values\": 43,\n        \"samples\": [\n          50,\n          39\n        ],\n        \"semantic_type\": \"\",\n        \"description\": \"\"\n      }\n    },\n    {\n      \"column\": \"EstimatedSalary\",\n      \"properties\": {\n        \"dtype\": \"number\",\n        \"std\": 34096,\n        \"min\": 15000,\n        \"max\": 150000,\n        \"num_unique_values\": 117,\n        \"samples\": [\n          117000,\n          76000\n        ],\n        \"semantic_type\": \"\",\n        \"description\": \"\"\n      }\n    },\n    {\n      \"column\": \"Purchased\",\n      \"properties\": {\n        \"dtype\": \"number\",\n        \"std\": 0,\n        \"min\": 0,\n        \"max\": 1,\n        \"num_unique_values\": 2,\n        \"samples\": [\n          1,\n          0\n        ],\n        \"semantic_type\": \"\",\n        \"description\": \"\"\n      }\n    }\n  ]\n}"
            }
          },
          "metadata": {},
          "execution_count": 1
        }
      ],
      "source": [
        "# Reading the Data using pandas\n",
        "import pandas as pd\n",
        "data = pd.read_csv('Purchase Behavior.csv')\n",
        "data.head()"
      ]
    },
    {
      "cell_type": "code",
      "source": [
        "data.shape"
      ],
      "metadata": {
        "id": "lUDY_Nz3w3y8",
        "colab": {
          "base_uri": "https://localhost:8080/"
        },
        "outputId": "fb7f77f4-df04-4f0f-d6be-534b13fc7f87"
      },
      "execution_count": 2,
      "outputs": [
        {
          "output_type": "execute_result",
          "data": {
            "text/plain": [
              "(400, 5)"
            ]
          },
          "metadata": {},
          "execution_count": 2
        }
      ]
    },
    {
      "cell_type": "code",
      "source": [],
      "metadata": {
        "id": "DaizqeZLtZS1"
      },
      "execution_count": 2,
      "outputs": []
    },
    {
      "cell_type": "code",
      "execution_count": 3,
      "metadata": {
        "id": "JzZSMOOswTwB",
        "colab": {
          "base_uri": "https://localhost:8080/"
        },
        "outputId": "6439df39-889b-4f3d-d2be-07d139767f31"
      },
      "outputs": [
        {
          "output_type": "stream",
          "name": "stdout",
          "text": [
            "Joint Probability based on Gender \n",
            " Gender  Purchased\n",
            "Female  0            0.3175\n",
            "        1            0.1925\n",
            "Male    0            0.3250\n",
            "        1            0.1650\n",
            "dtype: float64\n"
          ]
        }
      ],
      "source": [
        "#Joint Probability\n",
        "joint_prob_Gender = data.groupby(['Gender','Purchased']).size()/400\n",
        "print(\"Joint Probability based on Gender \\n\", joint_prob_Gender, end=\"\\n\")\n"
      ]
    },
    {
      "cell_type": "code",
      "execution_count": 4,
      "metadata": {
        "id": "RkAb53ugwTwC",
        "colab": {
          "base_uri": "https://localhost:8080/"
        },
        "outputId": "61cf95c7-1273-482f-c7fe-d44f4fab7776"
      },
      "outputs": [
        {
          "output_type": "stream",
          "name": "stdout",
          "text": [
            "Joint Probability based on Age \n",
            "  Age  Purchased\n",
            "18   0            0.0125\n",
            "19   0            0.0175\n",
            "20   0            0.0175\n",
            "21   0            0.0100\n",
            "22   0            0.0125\n",
            "                   ...  \n",
            "57   1            0.0125\n",
            "58   1            0.0150\n",
            "59   0            0.0050\n",
            "     1            0.0125\n",
            "60   1            0.0175\n",
            "Length: 70, dtype: float64\n"
          ]
        }
      ],
      "source": [
        "#Joint Probability\n",
        "joint_prob_Age = data.groupby(['Age','Purchased']).size()/400\n",
        "print(\"Joint Probability based on Age \\n \", joint_prob_Age, end=\"\\n\")\n"
      ]
    },
    {
      "cell_type": "code",
      "execution_count": 5,
      "metadata": {
        "id": "aiBLugsJwTwC",
        "outputId": "8813884a-dd20-4c98-be60-d89981e6709a",
        "colab": {
          "base_uri": "https://localhost:8080/"
        }
      },
      "outputs": [
        {
          "output_type": "stream",
          "name": "stdout",
          "text": [
            "Joint Probability based on Age, Gender \n",
            " Age  Gender  Purchased\n",
            "18   Female  0            0.0075\n",
            "     Male    0            0.0050\n",
            "19   Female  0            0.0050\n",
            "     Male    0            0.0125\n",
            "20   Female  0            0.0100\n",
            "                           ...  \n",
            "59   Female  0            0.0050\n",
            "             1            0.0075\n",
            "     Male    1            0.0050\n",
            "60   Female  1            0.0050\n",
            "     Male    1            0.0125\n",
            "Length: 119, dtype: float64\n"
          ]
        }
      ],
      "source": [
        "#Joint Probability\n",
        "Joint_Prob_Age_Gender = data.groupby(['Age','Gender','Purchased']).size()/400\n",
        "print(\"Joint Probability based on Age, Gender \\n\", Joint_Prob_Age_Gender, end=\"\\n\")"
      ]
    },
    {
      "cell_type": "markdown",
      "source": [
        " Q1: What is the joint probability of a Male aged 35 purchasing a car?"
      ],
      "metadata": {
        "id": "WoXyxXw6bRuN"
      }
    },
    {
      "cell_type": "code",
      "execution_count": 6,
      "metadata": {
        "collapsed": true,
        "id": "_j4xjl-RwTwD",
        "colab": {
          "base_uri": "https://localhost:8080/"
        },
        "outputId": "4b87c4bf-81db-4d2d-dc23-39798a93ca94"
      },
      "outputs": [
        {
          "output_type": "stream",
          "name": "stdout",
          "text": [
            "Joint Probability (Male, Age 35, Purchased=1): 0.0025\n"
          ]
        }
      ],
      "source": [
        "prob_q1 = Joint_Prob_Age_Gender.get((35, 'Male', 1), 0)\n",
        "print(f\"Joint Probability (Male, Age 35, Purchased=1): {prob_q1}\")\n"
      ]
    },
    {
      "cell_type": "markdown",
      "source": [
        "Q2: What is the joint probability of a Female aged 40 NOT purchasing a car?"
      ],
      "metadata": {
        "id": "B9fjr0kEbVfM"
      }
    },
    {
      "cell_type": "code",
      "source": [
        "prob_q2 = Joint_Prob_Age_Gender.get((40, 'Female', 0), 0)\n",
        "print(f\"Joint Probability (Female, Age 40, Purchased=0): {prob_q2}\")\n"
      ],
      "metadata": {
        "colab": {
          "base_uri": "https://localhost:8080/"
        },
        "id": "YBIxhH4Fa0W9",
        "outputId": "d3df6c2b-ff94-4fb3-d1eb-46957090c7c1"
      },
      "execution_count": 7,
      "outputs": [
        {
          "output_type": "stream",
          "name": "stdout",
          "text": [
            "Joint Probability (Female, Age 40, Purchased=0): 0.0075\n"
          ]
        }
      ]
    },
    {
      "cell_type": "markdown",
      "source": [
        "Q3: What is the total joint probability for Age 25, regardless of Gender or Purchase?"
      ],
      "metadata": {
        "id": "bFcGtgnzbh5l"
      }
    },
    {
      "cell_type": "code",
      "source": [
        "age_25_data = data[data['Age'] == 25]\n",
        "prob_q3 = len(age_25_data) / 400\n",
        "print(f\"Total Joint Probability for Age 25: {prob_q3}\")\n"
      ],
      "metadata": {
        "colab": {
          "base_uri": "https://localhost:8080/"
        },
        "id": "SJnGqU6abaiI",
        "outputId": "f9b35358-0812-469f-8396-05cd4237ba74"
      },
      "execution_count": 8,
      "outputs": [
        {
          "output_type": "stream",
          "name": "stdout",
          "text": [
            "Total Joint Probability for Age 25: 0.015\n"
          ]
        }
      ]
    },
    {
      "cell_type": "markdown",
      "source": [
        "Q4: What is the conditional probability of purchase given Male and Age 50?"
      ],
      "metadata": {
        "id": "Wtco5TLxbtD8"
      }
    },
    {
      "cell_type": "code",
      "source": [
        "subset_q4 = data[(data['Age'] == 50) & (data['Gender'] == 'Male')]\n",
        "purchased_q4 = subset_q4[subset_q4['Purchased'] == 1]\n",
        "prob_q4 = len(purchased_q4) / len(subset_q4) if len(subset_q4) > 0 else 0\n",
        "print(f\"Conditional Probability (Male, Age 50, Purchased=1 | Male, Age 50): {prob_q4}\")\n"
      ],
      "metadata": {
        "colab": {
          "base_uri": "https://localhost:8080/"
        },
        "id": "q3Jv-H0vbmfJ",
        "outputId": "13984608-9232-41c3-ecc8-672c3fb8e223"
      },
      "execution_count": 9,
      "outputs": [
        {
          "output_type": "stream",
          "name": "stdout",
          "text": [
            "Conditional Probability (Male, Age 50, Purchased=1 | Male, Age 50): 0\n"
          ]
        }
      ]
    },
    {
      "cell_type": "markdown",
      "source": [
        "Q5: For all Females, what is the probability of purchasing a car?"
      ],
      "metadata": {
        "id": "uUBwnX4rb1p2"
      }
    },
    {
      "cell_type": "code",
      "source": [
        "female_data = data[data['Gender'] == 'Female']\n",
        "purchased_female = female_data[female_data['Purchased'] == 1]\n",
        "prob_q5 = len(purchased_female) / len(female_data) if len(female_data) > 0 else 0\n",
        "print(f\"Probability (Female, Purchased=1): {prob_q5}\")\n"
      ],
      "metadata": {
        "colab": {
          "base_uri": "https://localhost:8080/"
        },
        "id": "zqj5A28RbzOm",
        "outputId": "2102e0d8-3aa9-40c3-eb88-2d3cc3031f4d"
      },
      "execution_count": 10,
      "outputs": [
        {
          "output_type": "stream",
          "name": "stdout",
          "text": [
            "Probability (Female, Purchased=1): 0.37745098039215685\n"
          ]
        }
      ]
    },
    {
      "cell_type": "markdown",
      "source": [
        "6. Calculate the joint probability that a customer is 30 years old, male, and purchased a car.\n",
        "\n",
        "7. Determine the joint probability for a female aged 40 who did not purchase a car.\n",
        "\n",
        "8. What is the joint probability that a randomly selected individual aged 50, regardless of gender, has purchased a car?\n",
        "\n",
        "9. If the joint probability of purchasing a car at age 28 for males is 0.06 and for females is 0.04, what is the total joint probability for age 28?\n",
        "\n",
        "10. For age 45, if the joint probability of purchasing a car for males is 0.08 and not purchasing is 0.02, what is the conditional probability of purchasing given the person is a 45-year-old male?"
      ],
      "metadata": {
        "id": "wNh3eng6cICF"
      }
    },
    {
      "cell_type": "code",
      "source": [
        "## 6. Calculate the joint probability that a customer is 30 years old, male, and purchased a car.\n",
        "\n",
        "import pandas as pd\n",
        "data = pd.read_csv('Purchase Behavior.csv')\n",
        "\n",
        "# Total number of records\n",
        "total_records = len(data)\n",
        "\n",
        "# Filter for customers who are 30 years old, male, and purchased a car\n",
        "condition1 = (data['Age'] == 30) & (data['Gender'] == 'Male') & (data['Purchased'] == 1)\n",
        "joint_count_1 = len(data[condition1])\n",
        "\n",
        "# Joint probability\n",
        "joint_prob_1 = joint_count_1 / total_records\n",
        "print(f\"Joint Probability (30 years old, Male, Purchased): {joint_prob_1:.4f}\")"
      ],
      "metadata": {
        "id": "QLV5s_9Yb3bA",
        "colab": {
          "base_uri": "https://localhost:8080/"
        },
        "outputId": "f656e224-3c4b-4e1d-a296-a97057901699"
      },
      "execution_count": 11,
      "outputs": [
        {
          "output_type": "stream",
          "name": "stdout",
          "text": [
            "Joint Probability (30 years old, Male, Purchased): 0.0050\n"
          ]
        }
      ]
    },
    {
      "cell_type": "code",
      "source": [],
      "metadata": {
        "id": "PBr2mxap_NJv"
      },
      "execution_count": 11,
      "outputs": []
    },
    {
      "cell_type": "code",
      "metadata": {
        "colab": {
          "base_uri": "https://localhost:8080/"
        },
        "id": "f5f9466c",
        "outputId": "94da55f7-b0e6-47fb-fadc-a6fd658df9ec"
      },
      "source": [
        "# 7. Determine the joint probability for a female aged 40 who did not purchase a car.\n",
        "condition2 = (data['Age'] == 40) & (data['Gender'] == 'Female') & (data['Purchased'] == 0)\n",
        "joint_count_2 = len(data[condition2])\n",
        "joint_prob_2 = joint_count_2 / total_records\n",
        "print(f\"Joint Probability (40 years old, Female, Not Purchased): {joint_prob_2:.4f}\")"
      ],
      "execution_count": 12,
      "outputs": [
        {
          "output_type": "stream",
          "name": "stdout",
          "text": [
            "Joint Probability (40 years old, Female, Not Purchased): 0.0075\n"
          ]
        }
      ]
    },
    {
      "cell_type": "code",
      "metadata": {
        "colab": {
          "base_uri": "https://localhost:8080/"
        },
        "id": "fded9ea0",
        "outputId": "08833345-7acf-4803-b0fc-1d987221c8f7"
      },
      "source": [
        "# 8. What is the joint probability that a randomly selected individual aged 50, regardless of gender, has purchased a car?\n",
        "condition3 = (data['Age'] == 50) & (data['Purchased'] == 1)\n",
        "joint_count_3 = len(data[condition3])\n",
        "joint_prob_3 = joint_count_3 / total_records\n",
        "print(f\"Joint Probability (50 years old, Purchased): {joint_prob_3:.4f}\")"
      ],
      "execution_count": 13,
      "outputs": [
        {
          "output_type": "stream",
          "name": "stdout",
          "text": [
            "Joint Probability (50 years old, Purchased): 0.0075\n"
          ]
        }
      ]
    },
    {
      "cell_type": "code",
      "metadata": {
        "colab": {
          "base_uri": "https://localhost:8080/"
        },
        "id": "cb4791d3",
        "outputId": "014ad9ff-9875-4655-8f58-56c33aa58c3d"
      },
      "source": [
        "# 9. If the joint probability of purchasing a car at age 28 for males is 0.06 and for females is 0.04, what is the total joint probability for age 28?\n",
        "joint_prob_male_28 = 0.06\n",
        "joint_prob_female_28 = 0.04\n",
        "total_joint_prob_28 = joint_prob_male_28 + joint_prob_female_28\n",
        "print(f\"Total Joint Probability for Age 28: {total_joint_prob_28:.2f}\")"
      ],
      "execution_count": 14,
      "outputs": [
        {
          "output_type": "stream",
          "name": "stdout",
          "text": [
            "Total Joint Probability for Age 28: 0.10\n"
          ]
        }
      ]
    },
    {
      "cell_type": "code",
      "metadata": {
        "colab": {
          "base_uri": "https://localhost:8080/"
        },
        "id": "f518f420",
        "outputId": "e3776693-7775-4fd9-d401-15a97fcca5c3"
      },
      "source": [
        "# 10. For age 45, if the joint probability of purchasing a car for males is 0.08 and not purchasing is 0.02, what is the conditional probability of purchasing given the person is a 45-year-old male?\n",
        "joint_prob_male_45_purchased = 0.08\n",
        "joint_prob_male_45_not_purchased = 0.02\n",
        "conditional_prob_purchasing_given_male_45 = joint_prob_male_45_purchased / (joint_prob_male_45_purchased + joint_prob_male_45_not_purchased)\n",
        "print(f\"Conditional Probability of purchasing given a 45-year-old male: {conditional_prob_purchasing_given_male_45:.2f}\")"
      ],
      "execution_count": 15,
      "outputs": [
        {
          "output_type": "stream",
          "name": "stdout",
          "text": [
            "Conditional Probability of purchasing given a 45-year-old male: 0.80\n"
          ]
        }
      ]
    }
  ],
  "metadata": {
    "kernelspec": {
      "display_name": "Python 3",
      "language": "python",
      "name": "python3"
    },
    "language_info": {
      "codemirror_mode": {
        "name": "ipython",
        "version": 3
      },
      "file_extension": ".py",
      "mimetype": "text/x-python",
      "name": "python",
      "nbconvert_exporter": "python",
      "pygments_lexer": "ipython3",
      "version": "3.6.3"
    },
    "colab": {
      "provenance": []
    }
  },
  "nbformat": 4,
  "nbformat_minor": 0
}